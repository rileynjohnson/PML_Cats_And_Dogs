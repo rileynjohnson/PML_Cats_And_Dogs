{
 "cells": [
  {
   "cell_type": "markdown",
   "metadata": {},
   "source": [
    "## Practical Machine Learning\n",
    "### Assignment 7 - Image Processing with Convolutional Neural Networks(CNN)\n",
    "\n",
    "Description:\n",
    "This assignment follows the same structure as Assignment 6. We will employ at least a 2x2 completely crossed experimental design. We will again use a simple training-and-test regimen, perhaps with a three-way partitioning of the data into training, dev, and test sets. The factors in the design may include numbers of layers and/or nodes within layers, types of layers (convolutional or pooling), and/or other hyperparameters. We will utilize convolutional neural networks (CNNs) within Python TensorFlow. \n",
    "\n",
    "The case data present a binary classification task, a subset of the data from a Kaggle competition in 2013\n",
    "https://www.kaggle.com/c/dogs-vs-cats\n",
    "\n",
    "The original data consisted of 25,000 images of cats and dogs. To ensure that the problem may be run on typical personal computers with limited memory and no graphical processing units (GPUs), we work with only 2,000 images: 1,000 cat images and 1,000 dog images. The original image files are provided in a zip archive:\n",
    "\n",
    "cats_dogs_images.zip\n",
    "\n",
    "After the data have been prepared for analysis in a jump-start program \n",
    "(included in the zip archive cats-dogs-jump-start-v002.zip under Modules / Technology Resources), \n",
    "we will divide the images into training, dev, and test sets for evaluating alternative neural network models per our experimental design.\n",
    "\n",
    "Management Problem\n",
    "Assume that we are providing advice to a website provider who is looking for tools to automatically label images provided by end users. As we look across the factors in the study, making recommendations to management about image classification, we are most concerned about achieving the highest possible accuracy in image classification. That is, we should be willing to sacrifice training time for model accuracy. What type of machine learning model works best? If it is a convolutional neural network, what type of network should we use? Part of this recommendation may concern information about the initial images themselves (input data for the classification task). What types of images work best?\n",
    "\n",
    "Programming Resources\n",
    "Refer once again to the programming resources cited under Assignment 6. Convolutional neural network coding examples are provided in the Géron (2017) textbook.\n",
    "\n",
    "Géron, A. (2017). Hands-on machine learning with Scikit-Learn & TensorFlow: Concepts, tools, and techniques to build intelligent systems. Sebastopol, CA: O'Reilly. [ISBN-13 978-1-491-96229-9]. Chapter 13: Convolutional Neural Networks (pp. 353–378)  Source code available here (Links to an external site.)Links to an external site.. \n",
    "\n",
    "Regarding memory issues. With the large number of parameters being fit in deep learning tasks, out-of-memory errors may be encountered on personal computers. Géron (2017, p. 363) provides these suggestions with regard to CNNs:\n",
    "\n",
    "If training crashes because of an out-of-memory error, you can try reducing the mini-batch size. Alternatively, you can try reducing dimensionality using a stride, or removing a few layers. Or you can try using 16-bit floats instead of 32-bit floats.\n",
    "\n",
    "Additional background regarding computer vision, CNNs, and TensorFlow is provided under:\n",
    "\n",
    "Modules / Technology Resources / Convolutional Neural Networks with TensorFlow\n",
    "\n",
    " \n",
    "\n",
    "Grading Guidelines (50 points)\n",
    "(1) Data preparation, exploration, visualization (10 points)\n",
    "(2) Review research design and modeling methods (10 points)\n",
    "(3) Review results, evaluate models (10 points)\n",
    "(4) Implementation and programming (10 points)\n",
    "(5) Exposition, problem description, and management recommendations (10 points)\n",
    "\n",
    " \n",
    "Deliverables and File Formats\n",
    "- Please upload the completed jupyter notebook (PREFERRED)\n",
    "\n",
    "OR\n",
    "\n",
    "Create a folder or directory with all supplementary files with your last name at the beginning of the folder name, compress that folder with zip compression, and post the zip-archived folder under the assignment link in Canvas. The following files should be included in an archive folder/directory that is uploaded as a single zip-compressed file. (Use zip, not StuffIt or any 7z or other compression method.)\n",
    "\n",
    "1. Provide a double-spaced paper with a two-page maximum for the text. The paper should include (1) a summary and problem definition for management; (2) discussion of the research design, measurement and statistical methods, traditional and machine learning methods employed; (3) overview of programming work; and (4) review of results with recommendations for management. (The paper must be provided as an Adobe Acrobat pdf file. MS Word files are NOT acceptable.)\n",
    "\n",
    "2. Files or links to files should be provided in the format as used by the Python program.\n",
    "\n",
    "3. Complete program code in Python used to access and analyze the data. The code should be submitted as a plain text file, so it can be executed as a program in a single Python program execution within an interactive Python shell. (You may include a Python notebook in addition to the complete program code.) If there are calls to Python modules, ensure that the directory structure is maintained so that the main program may be fully executed. \n",
    "\n",
    "4. Output from the program, such as console listing/logs, text files, and graphics output for visualizations. If you use Professional Studies database servers or systems, include Linux logs of your sessions as plain text files.\n",
    "\n",
    "5. List file names and descriptions of files in the zip-compressed folder/directory.\n",
    "\n",
    "\n",
    "Formatting Python Code\n",
    "Refer to Google’s Python Style Guide (Links to an external site.)Links to an external site. for ideas about formatting Python code\n",
    "\n",
    "Also refer to Google’s TensorFlow Style Guide (Links to an external site.)Links to an external site.\n",
    "\n",
    "Comment often and in detail, highlighting major sections of code, describing the thinking behind the modeling and programming methods being employed."
   ]
  },
  {
   "cell_type": "code",
   "execution_count": 40,
   "metadata": {},
   "outputs": [],
   "source": [
    "# Ignore warnings\n",
    "import warnings\n",
    "warnings.filterwarnings(\"ignore\")\n",
    "\n",
    "#ignore tensorflow related warnings\n",
    "import os\n",
    "import tensorflow as tf\n",
    "\n",
    "os.environ['TF_CPP_MIN_LOG_LEVEL'] = '3'  # or any {'0', '1', '2'}"
   ]
  },
  {
   "cell_type": "code",
   "execution_count": 41,
   "metadata": {},
   "outputs": [],
   "source": [
    "# coding: utf-8\n",
    "\n",
    "# Initial deep neural network set-up from \n",
    "# Géron, A. 2017. Hands-On Machine Learning with Scikit-Learn \n",
    "#    & TensorFlow: Concepts, Tools, and Techniques to Build \n",
    "#    Intelligent Systems. Sebastopol, Calif.: O'Reilly. \n",
    "#    [ISBN-13 978-1-491-96229-9] \n",
    "#    Source code available at https://github.com/ageron/handson-ml\n",
    "#    See file 10_introduction_to_artificial_neural_networks.ipynb \n",
    "#    Revised from MNIST to Cats and Dogs to begin Assignment 7\n",
    "#    #CatsDogs# comment lines show additions/revisions for Cats and Dogs"
   ]
  },
  {
   "cell_type": "code",
   "execution_count": 42,
   "metadata": {},
   "outputs": [],
   "source": [
    "# To support both python 2 and python 3\n",
    "from __future__ import division, print_function, unicode_literals"
   ]
  },
  {
   "cell_type": "code",
   "execution_count": 43,
   "metadata": {},
   "outputs": [],
   "source": [
    "# Common imports for our work\n",
    "import os \n",
    "import numpy as np\n",
    "import tensorflow as tf\n",
    "import time\n",
    "import pandas as pd  # data frame operations  \n",
    "import numpy as np  # arrays and math functions\n",
    "import matplotlib.pyplot as plt  # static plotting\n",
    "import re # regular expressions\n",
    "import scipy\n",
    "import os # Operation System\n",
    "from sklearn.preprocessing import StandardScaler, MinMaxScaler\n",
    "from sklearn.model_selection import train_test_split\n",
    "from matplotlib.backends.backend_pdf import PdfPages\n",
    "import sklearn\n",
    "import tensorflow as tf\n",
    "from datetime import datetime\n",
    "from __future__ import division, print_function, unicode_literals\n",
    "import cv2\n",
    "#import seaborn as sns\n",
    "start_time_overall = time.clock()"
   ]
  },
  {
   "cell_type": "markdown",
   "metadata": {},
   "source": [
    "##### Secure dataset and image preprocessing"
   ]
  },
  {
   "cell_type": "code",
   "execution_count": 44,
   "metadata": {},
   "outputs": [
    {
     "name": "stdout",
     "output_type": "stream",
     "text": [
      "Working Directory\n",
      "/home/rj/PML/Week 7 Cats and Dogs\n"
     ]
    }
   ],
   "source": [
    "# create a data directory in the present working directory\n",
    "os.getcwd() \n",
    "os.chdir('.')\n",
    "print('Working Directory')\n",
    "print(os.getcwd())  \n",
    "random_seed=9999"
   ]
  },
  {
   "cell_type": "code",
   "execution_count": 45,
   "metadata": {},
   "outputs": [],
   "source": [
    "# Set path variables ( make sure the directories & the images exist )\n",
    "cat_image_dir_name = './cats_dogs_images/cats'\n",
    "dog_image_dir_name = './cats_dogs_images/dogs'"
   ]
  },
  {
   "cell_type": "code",
   "execution_count": 46,
   "metadata": {},
   "outputs": [],
   "source": [
    "#Standard Functions\n",
    "# Sorting of file names facilitated by\n",
    "def tryint(s):\n",
    "    try:\n",
    "        return int(s)\n",
    "    except:\n",
    "        return s\n",
    "\n",
    "def alphanum_key(s):\n",
    "    \"\"\" Turn a string into a list of string and number chunks.\n",
    "        \"z23a\" -> [\"z\", 23, \"a\"]\n",
    "    \"\"\"\n",
    "    return [ tryint(c) for c in re.split('([0-9]+)', s) ]\n",
    "\n",
    "def sort_nicely(l):\n",
    "    \"\"\" Sort the given list in the way that humans expect.\n",
    "    \"\"\"\n",
    "    l.sort(key=alphanum_key)\n",
    "    \n",
    "# Generate list of file names, excluding hidden files    \n",
    "def directory_list (dir_name):\n",
    "    start_list = os.listdir(dir_name)\n",
    "    end_list = []\n",
    "    for file in start_list:\n",
    "        if (not file.startswith('.')):\n",
    "            end_list.append(file) \n",
    "    end_list.sort(key = alphanum_key)        \n",
    "    return(end_list)        \n",
    "\n",
    "cat_file_names = directory_list(cat_image_dir_name)\n",
    "cat_file_names = cat_file_names[0:1000]\n",
    "dog_file_names = directory_list(dog_image_dir_name) \n",
    "dog_file_names = dog_file_names[0:1000]"
   ]
  },
  {
   "cell_type": "code",
   "execution_count": 47,
   "metadata": {},
   "outputs": [],
   "source": [
    "#   Convert image to numpy array. 3 channels for color  and 1 converted to grayscale\n",
    "#   Info on npy binary format for saving numpy arrays https://towardsdatascience.com/\n",
    "def parse_grayscale(image_file_path):\n",
    "    image = cv2.imread(image_file_path, cv2.IMREAD_GRAYSCALE)\n",
    "    return(image)\n",
    "    \n",
    "def parse_color(image_file_path):\n",
    "    image = cv2.imread(image_file_path, cv2.IMREAD_COLOR)\n",
    "    # Default cv2 is BGR... need RGB\n",
    "    image = cv2.cvtColor(image, cv2.COLOR_BGR2RGB)\n",
    "    return(image)\n",
    "  \n",
    "def parse_grayscale_and_resize(image_file_path, size = (64, 64)):\n",
    "    image = cv2.imread(image_file_path, cv2.IMREAD_GRAYSCALE)\n",
    "    image = cv2.resize(image, size)\n",
    "    return(image)\n",
    "\n",
    "def parse_color_and_resize(image_file_path, size = (64, 64)):\n",
    "    image = cv2.imread(image_file_path, cv2.IMREAD_COLOR)\n",
    "    # Default cv2 is BGR... need RGB\n",
    "    image = cv2.cvtColor(image, cv2.COLOR_BGR2RGB)\n",
    "    image = cv2.resize(image, size)\n",
    "    return(image)  \n",
    "    \n",
    "def show_grayscale_image(image):\n",
    "    plt.imshow(image, cmap = 'gray') \n",
    "    plt.axis('off')\n",
    "    plt.show()\n",
    "\n",
    "def show_color_image(image):\n",
    "    plt.imshow(image) \n",
    "    plt.axis('off')\n",
    "    plt.show()    "
   ]
  },
  {
   "cell_type": "code",
   "execution_count": 48,
   "metadata": {},
   "outputs": [
    {
     "name": "stdout",
     "output_type": "stream",
     "text": [
      "\n",
      "\n",
      "Cat image file shapes:\n",
      "\n",
      "\n",
      "\n",
      "Dog image file shapes:\n",
      "\n"
     ]
    }
   ],
   "source": [
    "#Examine dimensions of original raster images \n",
    "cats_shapes = []\n",
    "for ifile in range(len(cat_file_names)):\n",
    "    image_file_path = os.path.join(cat_image_dir_name, cat_file_names[ifile])\n",
    "    image = parse_color(image_file_path)\n",
    "    cats_shapes.append(image.shape)\n",
    "print('\\n\\nCat image file shapes:\\n')    \n",
    "#print(cats_shapes)    \n",
    "\n",
    "dogs_shapes = []\n",
    "for ifile in range(len(cat_file_names)):\n",
    "    image_file_path = os.path.join(cat_image_dir_name, cat_file_names[ifile])\n",
    "    image = parse_color(image_file_path)\n",
    "    dogs_shapes.append(image.shape)    \n",
    "print('\\n\\nDog image file shapes:\\n') \n",
    "#print(dogs_shapes)"
   ]
  },
  {
   "cell_type": "code",
   "execution_count": 49,
   "metadata": {},
   "outputs": [],
   "source": [
    "# Save numpy array objects for analysis \n",
    "from pathlib import Path\n",
    "my_file = Path('./cats_dogs_arrays_1000')\n",
    "if my_file.exists():\n",
    "    import shutil\n",
    "    shutil.rmtree(my_file)\n",
    "\n",
    "outdir = './cats_dogs_arrays_1000'\n",
    "os.mkdir(outdir)"
   ]
  },
  {
   "cell_type": "code",
   "execution_count": 50,
   "metadata": {},
   "outputs": [
    {
     "name": "stdout",
     "output_type": "stream",
     "text": [
      "\n",
      "Processing image files to 64x64 color or grayscale arrays\n",
      "\n",
      "Run complete\n"
     ]
    }
   ],
   "source": [
    "# Create Numpy Image Arrays\n",
    "#----------------------------------------------------------------------\n",
    "print('\\nProcessing image files to 64x64 color or grayscale arrays')\n",
    "# Create cats_1000_64_64_3 and numpy array for 1000 cat images in color\n",
    "start_time_m1=time.clock()\n",
    "cats_1000_64_64_3 = np.zeros((1000, 64, 64, 3))  \n",
    "for ifile in range(len(cat_file_names)):\n",
    "    image_file_path = os.path.join(cat_image_dir_name, cat_file_names[ifile])\n",
    "    image = parse_color_and_resize(image_file_path, size = (64, 64))\n",
    "    cats_1000_64_64_3[ifile,:,:,:] = image\n",
    "       \n",
    "# Create dogs_1000_64_64_3 and numpy array for 1000 dog images in color   \n",
    "dogs_1000_64_64_3 = np.zeros((1000, 64, 64, 3))  \n",
    "for ifile in range(len(dog_file_names)):\n",
    "    image_file_path = os.path.join(dog_image_dir_name, dog_file_names[ifile])\n",
    "    image = parse_color_and_resize(image_file_path, size = (64, 64))\n",
    "    dogs_1000_64_64_3[ifile,:,:,:] = image\n",
    "\n",
    "# Create cats_1000_64_64_1 and numpy array for 1000 cat images in grayscale\n",
    "cats_1000_64_64_1 = np.zeros((1000, 64, 64, 1))  \n",
    "for ifile in range(len(cat_file_names)):\n",
    "    image_file_path = os.path.join(cat_image_dir_name, cat_file_names[ifile])\n",
    "    image = parse_grayscale_and_resize(image_file_path, size = (64, 64))\n",
    "    cats_1000_64_64_1[ifile,:,:,0] = image\n",
    "       \n",
    "# Create dogs_1000_64_64_1 and numpy array for 1000 dog images in grayscale   \n",
    "dogs_1000_64_64_1 = np.zeros((1000, 64, 64, 1))  \n",
    "for ifile in range(len(dog_file_names)):\n",
    "    image_file_path = os.path.join(dog_image_dir_name, dog_file_names[ifile])\n",
    "    image = parse_grayscale_and_resize(image_file_path, size = (64, 64))\n",
    "    dogs_1000_64_64_1[ifile,:,:,0] = image\n",
    "    \n",
    "# Save numpy array objects for analysis       \n",
    "disk_time_m1=time.clock()\n",
    "np.save(os.path.join(outdir, 'cats_1000_64_64_3.npy'), cats_1000_64_64_3)\n",
    "np.save(os.path.join(outdir, 'dogs_1000_64_64_3.npy'), dogs_1000_64_64_3)\n",
    "np.save(os.path.join(outdir, 'cats_1000_64_64_1.npy'), cats_1000_64_64_1)\n",
    "np.save(os.path.join(outdir, 'dogs_1000_64_64_1.npy'), dogs_1000_64_64_1)\n",
    "disk_time = time.clock() - disk_time_m1\n",
    "print('\\nRun complete')"
   ]
  },
  {
   "cell_type": "code",
   "execution_count": 51,
   "metadata": {},
   "outputs": [
    {
     "name": "stdout",
     "output_type": "stream",
     "text": [
      "\n",
      "Processing image files to 128x128 color or grayscale arrays\n",
      "\n",
      "Run complete\n"
     ]
    }
   ],
   "source": [
    "# ------------------------------------------------------------------------\n",
    "print('\\nProcessing image files to 128x128 color or grayscale arrays')\n",
    "\n",
    "# Create cats_1000_128_128_3 and numpy array for 1000 cat images in color\n",
    "cats_1000_128_128_3 = np.zeros((1000, 128, 128, 3))  \n",
    "for ifile in range(len(cat_file_names)):\n",
    "    image_file_path = os.path.join(cat_image_dir_name, cat_file_names[ifile])\n",
    "    image = parse_color_and_resize(image_file_path, size = (128, 128))\n",
    "    cats_1000_128_128_3[ifile,:,:,:] = image\n",
    "       \n",
    "# Create dogs_1000_128_128_3 and numpy array for 1000 dog images in color   \n",
    "dogs_1000_128_128_3 = np.zeros((1000, 128, 128, 3))  \n",
    "for ifile in range(len(dog_file_names)):\n",
    "    image_file_path = os.path.join(dog_image_dir_name, dog_file_names[ifile])\n",
    "    image = parse_color_and_resize(image_file_path, size = (128, 128))\n",
    "    dogs_1000_128_128_3[ifile,:,:,:] = image\n",
    "\n",
    "# Create cats_1000_128_128_1 and numpy array for 1000 cat images in grayscale\n",
    "cats_1000_128_128_1 = np.zeros((1000, 128, 128, 1))  \n",
    "for ifile in range(len(cat_file_names)):\n",
    "    image_file_path = os.path.join(cat_image_dir_name, cat_file_names[ifile])\n",
    "    image = parse_grayscale_and_resize(image_file_path, size = (128, 128))\n",
    "    cats_1000_128_128_1[ifile,:,:,0] = image\n",
    "       \n",
    "# Create dogs_1000_128_128_1 and numpy array for 1000 dog images in grayscale   \n",
    "dogs_1000_128_128_1 = np.zeros((1000, 128, 128, 1))  \n",
    "for ifile in range(len(dog_file_names)):\n",
    "    image_file_path = os.path.join(dog_image_dir_name, dog_file_names[ifile])\n",
    "    image = parse_grayscale_and_resize(image_file_path, size = (128, 128))\n",
    "    dogs_1000_128_128_1[ifile,:,:,0] = image   \n",
    "\n",
    "    \n",
    "# Save numpy array objects for analysis \n",
    "disk_time_m1=time.clock()\n",
    "np.save(os.path.join(outdir, 'cats_1000_128_128_3.npy'), cats_1000_128_128_3)\n",
    "np.save(os.path.join(outdir, 'dogs_1000_128_128_3.npy'), dogs_1000_128_128_3)\n",
    "np.save(os.path.join(outdir, 'cats_1000_128_128_1.npy'), cats_1000_128_128_1)\n",
    "np.save(os.path.join(outdir, 'dogs_1000_128_128_1.npy'), dogs_1000_128_128_1)\n",
    "disk_time = disk_time + time.clock() - disk_time_m1\n",
    "print('\\nRun complete')    "
   ]
  },
  {
   "cell_type": "code",
   "execution_count": 52,
   "metadata": {},
   "outputs": [
    {
     "name": "stdout",
     "output_type": "stream",
     "text": [
      "\n",
      "Processing image files to 256x256 color or grayscale arrays\n",
      "\n",
      "Run complete\n"
     ]
    }
   ],
   "source": [
    "# ------------------------------------------------------------------------\n",
    "print('\\nProcessing image files to 256x256 color or grayscale arrays')\n",
    "# Create cats_1000_256_256_3 and numpy array for 1000 cat images in color\n",
    "cats_1000_256_256_3 = np.zeros((1000, 256, 256, 3))  \n",
    "for ifile in range(len(cat_file_names)):\n",
    "    image_file_path = os.path.join(cat_image_dir_name, cat_file_names[ifile])\n",
    "    image = parse_color_and_resize(image_file_path, size = (256, 256))\n",
    "    cats_1000_256_256_3[ifile,:,:,:] = image\n",
    "       \n",
    "# Create dogs_1000_256_256_3 and numpy array for 1000 dog images in color   \n",
    "dogs_1000_256_256_3 = np.zeros((1000, 256, 256, 3))  \n",
    "for ifile in range(len(dog_file_names)):\n",
    "    image_file_path = os.path.join(dog_image_dir_name, dog_file_names[ifile])\n",
    "    image = parse_color_and_resize(image_file_path, size = (256, 256))\n",
    "    dogs_1000_256_256_3[ifile,:,:,:] = image\n",
    "\n",
    "# Create cats_1000_256_256_1 and numpy array for 1000 cat images in grayscale\n",
    "cats_1000_256_256_1 = np.zeros((1000, 256, 256, 1))  \n",
    "for ifile in range(len(cat_file_names)):\n",
    "    image_file_path = os.path.join(cat_image_dir_name, cat_file_names[ifile])\n",
    "    image = parse_grayscale_and_resize(image_file_path, size = (256, 256))\n",
    "    cats_1000_256_256_1[ifile,:,:,0] = image\n",
    "       \n",
    "# Create dogs_1000_256_256_1 and numpy array for 1000 dog images in grayscale   \n",
    "dogs_1000_256_256_1 = np.zeros((1000, 256, 256, 1))  \n",
    "for ifile in range(len(dog_file_names)):\n",
    "    image_file_path = os.path.join(dog_image_dir_name, dog_file_names[ifile])\n",
    "    image = parse_grayscale_and_resize(image_file_path, size = (256, 256))\n",
    "    dogs_1000_256_256_1[ifile,:,:,0] = image\n",
    "    \n",
    "# Save numpy array objects for analysis \n",
    "disk_time_m1=time.clock()\n",
    "np.save(os.path.join(outdir, 'cats_1000_256_256_3.npy'), cats_1000_256_256_3)\n",
    "np.save(os.path.join(outdir, 'dogs_1000_256_256_3.npy'), dogs_1000_256_256_3)\n",
    "np.save(os.path.join(outdir, 'cats_1000_256_256_1.npy'), cats_1000_256_256_1)\n",
    "np.save(os.path.join(outdir, 'dogs_1000_256_256_1.npy'), dogs_1000_256_256_1)\n",
    "disk_time = disk_time + time.clock() - disk_time_m1\n",
    "print('\\nRun complete')    "
   ]
  },
  {
   "cell_type": "code",
   "execution_count": 53,
   "metadata": {},
   "outputs": [
    {
     "name": "stdout",
     "output_type": "stream",
     "text": [
      "\n",
      "Processing image files to 512x512 color or grayscale arrays\n",
      "total run time: 45.093109999999996\n",
      "CPU/GPU/RAM bottleneck time: 36.13007900000001\n",
      "Disk IO bottleneck time: 8.963030999999987\n",
      "\n",
      "Run complete\n",
      "overall time: 45.09337099999999\n"
     ]
    }
   ],
   "source": [
    "# ------------------------------------------------------------------------\n",
    "print('\\nProcessing image files to 512x512 color or grayscale arrays')\n",
    "# Create cats_1000_512_512_3 and numpy array for 1000 cat images in color\n",
    "cats_1000_512_512_3 = np.zeros((1000, 512, 512, 3))  \n",
    "for ifile in range(len(cat_file_names)):\n",
    "    image_file_path = os.path.join(cat_image_dir_name, cat_file_names[ifile])\n",
    "    image = parse_color_and_resize(image_file_path, size = (512, 512))\n",
    "    cats_1000_512_512_3[ifile,:,:,:] = image\n",
    "       \n",
    "# Create dogs_1000_512_512_3 and numpy array for 1000 dog images in color   \n",
    "dogs_1000_512_512_3 = np.zeros((1000, 512, 512, 3))  \n",
    "for ifile in range(len(dog_file_names)):\n",
    "    image_file_path = os.path.join(dog_image_dir_name, dog_file_names[ifile])\n",
    "    image = parse_color_and_resize(image_file_path, size = (512, 512))\n",
    "    dogs_1000_512_512_3[ifile,:,:,:] = image\n",
    "\n",
    "# Create cats_1000_512_512_1 and numpy array for 1000 cat images in grayscale\n",
    "cats_1000_512_512_1 = np.zeros((1000, 512, 512, 1))  \n",
    "for ifile in range(len(cat_file_names)):\n",
    "    image_file_path = os.path.join(cat_image_dir_name, cat_file_names[ifile])\n",
    "    image = parse_grayscale_and_resize(image_file_path, size = (512, 512))\n",
    "    cats_1000_512_512_1[ifile,:,:,0] = image\n",
    "       \n",
    "# Create dogs_1000_512_512_1 and numpy array for 1000 dog images in grayscale   \n",
    "dogs_1000_512_512_1 = np.zeros((1000, 512, 512, 1))  \n",
    "for ifile in range(len(dog_file_names)):\n",
    "    image_file_path = os.path.join(dog_image_dir_name, dog_file_names[ifile])\n",
    "    image = parse_grayscale_and_resize(image_file_path, size = (512, 512))\n",
    "    dogs_1000_512_512_1[ifile,:,:,0] = image\n",
    "    \n",
    "# Save numpy array objects for analysis \n",
    "disk_time_m1=time.clock()\n",
    "np.save(os.path.join(outdir, 'cats_1000_512_512_3.npy'), cats_1000_512_512_3)\n",
    "np.save(os.path.join(outdir, 'dogs_1000_512_512_3.npy'), dogs_1000_512_512_3)\n",
    "np.save(os.path.join(outdir, 'cats_1000_512_512_1.npy'), cats_1000_512_512_1)\n",
    "np.save(os.path.join(outdir, 'dogs_1000_512_512_1.npy'), dogs_1000_512_512_1)\n",
    "disk_time= disk_time + time.clock() - disk_time_m1\n",
    "# Record end time for neral network training\n",
    "\n",
    "#Total processing time\n",
    "runtime_M1 = time.clock() - start_time_overall\n",
    "print(\"total run time:\", runtime_M1)\n",
    "print(\"CPU/GPU/RAM bottleneck time:\", runtime_M1 - disk_time)\n",
    "print(\"Disk IO bottleneck time:\", disk_time)\n",
    "print('\\nRun complete')    \n",
    "runtime_overall= time.clock() - start_time_overall\n",
    "print(\"overall time:\", runtime_overall)"
   ]
  },
  {
   "cell_type": "code",
   "execution_count": 54,
   "metadata": {},
   "outputs": [],
   "source": [
    "##### Data Analysis & Preparation"
   ]
  },
  {
   "cell_type": "code",
   "execution_count": 55,
   "metadata": {},
   "outputs": [],
   "source": [
    "# Global Functions & variables  #restart here\n",
    "random_seed=9999\n",
    "\n",
    "#Reset Graphs for Tensorboard\n",
    "def reset_graph(seed= random_seed):\n",
    "    tf.reset_default_graph()\n",
    "    tf.set_random_seed(seed)\n",
    "    np.random.seed(seed)\n",
    "    \n",
    "    \n",
    "#Save images to working directory\n",
    "def save_fig(fig_id, tight_layout=True):\n",
    "    path = os.path.join(work_dir, \"images\", chp_id, fig_id + \".png\")\n",
    "    print(\"Saving figure\", fig_id)\n",
    "    if tight_layout:\n",
    "        plt.tight_layout()\n",
    "    plt.savefig(path, format='png', dpi=300)\n",
    "    \n",
    "\n",
    "#Randomly Sort Batches\n",
    "def shuffle_batch(X, y, batch_size):\n",
    "    rnd_idx = np.random.permutation(len(X))\n",
    "    n_batches = len(X) // batch_size\n",
    "    for batch_idx in np.array_split(rnd_idx, n_batches):\n",
    "        X_batch, y_batch = X[batch_idx], y[batch_idx]\n",
    "        yield X_batch, y_batch\n",
    "        \n",
    "\n",
    "from matplotlib import pyplot as plt  # for display of images\n",
    "def show_grayscale_image(image):\n",
    "    plt.imshow(image, cmap='gray')\n",
    "    plt.axis('off')\n",
    "    plt.show()\n",
    "    \n",
    "    \n",
    "#Check distribtion of test , valid and train\n",
    "#def dist_plot(var1, var2, var3):\n",
    "  #  tmp_plt=sns.countplot(var1, palette=\"Blues\").set_title(var2)\n",
    " #   tmp_fig = tmp_plt.get_figure()\n",
    "  #  tmp_fig.savefig(var3 + \".png\", \n",
    "   #     bbox_inches = 'tight', dpi=None, facecolor='w', edgecolor='b', \n",
    "    #    orientation='portrait', papertype=None, format=None, \n",
    "     #   transparent=True, pad_inches=0.25, frameon=None)\n",
    "    #return(tmp_plt)"
   ]
  },
  {
   "cell_type": "code",
   "execution_count": 56,
   "metadata": {},
   "outputs": [
    {
     "name": "stdout",
     "output_type": "stream",
     "text": [
      "Shape of cat data:  (1000, 64, 64, 1)\n",
      "Shape of dog data:  (1000, 64, 64, 1)\n"
     ]
    }
   ],
   "source": [
    "# CatsDogs  dataset # \n",
    "# Documentation on npy binary format for saving numpy arrays for later use\n",
    "#     https://towardsdatascience.com/why-you-should-start-using-npy-file-more-often-df2a13cc0161\n",
    "# Under the working directory, data files are in directory cats_dogs_64_128 \n",
    "# Read in cats and dogs grayscale 64x64 files to create training data\n",
    "cats_1000_64_64_1 = np.load('./cats_dogs_arrays_1000/cats_1000_64_64_1.npy')\n",
    "dogs_1000_64_64_1 = np.load('./cats_dogs_arrays_1000/dogs_1000_64_64_1.npy')\n",
    "\n",
    "print(\"Shape of cat data: \",cats_1000_64_64_1.shape)\n",
    "print(\"Shape of dog data: \",dogs_1000_64_64_1.shape)"
   ]
  },
  {
   "cell_type": "code",
   "execution_count": 57,
   "metadata": {},
   "outputs": [
    {
     "data": {
      "image/png": "[encoded data removed]",
      "text/plain": [
       "<matplotlib.figure.Figure at 0x7fb1e04aaef0>"
      ]
     },
     "metadata": {},
     "output_type": "display_data"
    },
    {
     "data": {
      "image/png": "[encoded data removed]",
      "text/plain": [
       "<matplotlib.figure.Figure at 0x7fb1e04c0cf8>"
      ]
     },
     "metadata": {},
     "output_type": "display_data"
    }
   ],
   "source": [
    "# Examine first cat and first dog grayscale images\n",
    "show_grayscale_image(cats_1000_64_64_1[0,:,:,0])\n",
    "show_grayscale_image(dogs_1000_64_64_1[0,:,:,0])"
   ]
  },
  {
   "cell_type": "markdown",
   "metadata": {},
   "source": [
    "###### Base Model: DNN Model"
   ]
  },
  {
   "cell_type": "code",
   "execution_count": 58,
   "metadata": {},
   "outputs": [],
   "source": [
    "# 300 and 100 nodes for layers 1 and 2 as used with MNIST from Geron\n",
    "n_hidden1 = 300\n",
    "n_hidden2 = 100\n",
    "\n",
    "channels = 1  # When working with color images use channels = 3\n",
    "\n",
    "n_inputs = 64*64\n",
    "\n",
    "#CatsDogs# Has two output values # MNIST had ten digits n_outputs = 10  \n",
    "n_outputs = 2  # binary classification for Cats and Dogs, 1 output node 0/1\n",
    "\n",
    "reset_graph()"
   ]
  },
  {
   "cell_type": "code",
   "execution_count": 59,
   "metadata": {},
   "outputs": [],
   "source": [
    "# dnn... Deep neural network model from Geron Chapter 10\n",
    "# Note that this model makes no use of the fact that we have\n",
    "# pixel data arranged in rows and columns\n",
    "# So a 64x64 matrix of raster values becomes a vector of 4096 input variables\n",
    "X = tf.placeholder(tf.float32, shape=(None, n_inputs), name=\"X\")\n",
    "y = tf.placeholder(tf.int32, shape=(None), name=\"y\")"
   ]
  },
  {
   "cell_type": "code",
   "execution_count": 60,
   "metadata": {},
   "outputs": [],
   "source": [
    "# Define the NN\n",
    "def neuron_layer(X, n_neurons, name, activation=None):\n",
    "    with tf.name_scope(name):\n",
    "        n_inputs = int(X.get_shape()[1])\n",
    "        stddev = 2 / np.sqrt(n_inputs)\n",
    "        init = tf.truncated_normal((n_inputs, n_neurons), stddev=stddev)\n",
    "        W = tf.Variable(init, name=\"kernel\")\n",
    "        b = tf.Variable(tf.zeros([n_neurons]), name=\"bias\")\n",
    "        Z = tf.matmul(X, W) + b\n",
    "        if activation is not None:\n",
    "            return activation(Z)\n",
    "        else:\n",
    "            return Z"
   ]
  },
  {
   "cell_type": "code",
   "execution_count": 61,
   "metadata": {},
   "outputs": [
    {
     "name": "stdout",
     "output_type": "stream",
     "text": [
      "overall time: 45.690421\n"
     ]
    }
   ],
   "source": [
    "with tf.name_scope(\"dnn\"):\n",
    "    hidden1 = neuron_layer(X, n_hidden1, name=\"hidden1\",\n",
    "                           activation=tf.nn.relu)\n",
    "    hidden2 = neuron_layer(hidden1, n_hidden2, name=\"hidden2\",\n",
    "                           activation=tf.nn.relu)\n",
    "    logits = neuron_layer(hidden2, n_outputs, name=\"outputs\")\n",
    "    \n",
    "\n",
    "# Loss\n",
    "with tf.name_scope(\"loss\"):\n",
    "    xentropy = tf.nn.sparse_softmax_cross_entropy_with_logits(labels=y,\n",
    "                                                              logits=logits)\n",
    "    loss = tf.reduce_mean(xentropy, name=\"loss\")\n",
    "\n",
    "# Optimizer    \n",
    "learning_rate = 0.01\n",
    "with tf.name_scope(\"train\"):\n",
    "    optimizer = tf.train.GradientDescentOptimizer(learning_rate)\n",
    "    training_op = optimizer.minimize(loss)\n",
    "\n",
    "with tf.name_scope(\"eval\"):\n",
    "    correct = tf.nn.in_top_k(logits, y, 1)\n",
    "    accuracy = tf.reduce_mean(tf.cast(correct, tf.float32))    \n",
    "runtime_overall= time.clock() - start_time_overall\n",
    "print(\"overall time:\", runtime_overall)"
   ]
  },
  {
   "cell_type": "code",
   "execution_count": 62,
   "metadata": {},
   "outputs": [],
   "source": [
    "init = tf.global_variables_initializer()\n",
    "saver = tf.train.Saver()"
   ]
  },
  {
   "cell_type": "code",
   "execution_count": 63,
   "metadata": {},
   "outputs": [],
   "source": [
    "# Work the data for cats and dogs numpy arrays \n",
    "# These numpy arrays were generated in previous data prep work\n",
    "# Stack the numpy arrays for the inputs\n",
    "X_cat_dog = np.concatenate((cats_1000_64_64_1, dogs_1000_64_64_1), axis = 0) \n",
    "X_cat_dog = X_cat_dog.reshape(-1,64*64) # note coversion to 4096 inputs"
   ]
  },
  {
   "cell_type": "code",
   "execution_count": 64,
   "metadata": {},
   "outputs": [
    {
     "name": "stdout",
     "output_type": "stream",
     "text": [
      "overall time: 45.803095\n"
     ]
    }
   ],
   "source": [
    "# Scikit Learn for min-max scaling of the data\n",
    "from sklearn.preprocessing import MinMaxScaler\n",
    "scaler = MinMaxScaler()\n",
    "scaler.fit(np.array([0., 255.]).reshape(-1,1)) \n",
    "X_cat_dog_min_max = scaler.transform(X_cat_dog)\n",
    "runtime_overall= time.clock() - start_time_overall\n",
    "print(\"overall time:\", runtime_overall)"
   ]
  },
  {
   "cell_type": "code",
   "execution_count": 65,
   "metadata": {},
   "outputs": [],
   "source": [
    "# Define the labels to be used 1000 cats = 0 1000 dogs = 1\n",
    "y_cat_dog = np.concatenate((np.zeros((1000), dtype = np.int32), \n",
    "                      np.ones((1000), dtype = np.int32)), axis = 0)"
   ]
  },
  {
   "cell_type": "code",
   "execution_count": 66,
   "metadata": {},
   "outputs": [
    {
     "name": "stdout",
     "output_type": "stream",
     "text": [
      "Shape of Training data:  (1600, 4096)\n",
      "Shape of Test data:  (400, 4096)\n",
      "\n",
      "Shape of Training data:  (1600,)\n",
      "Shape of Test data:  (400,)\n"
     ]
    }
   ],
   "source": [
    "# Random splitting of the data in to training (80%) and test (20%)  \n",
    "X_train, X_test, y_train, y_test = \\\n",
    "    train_test_split(X_cat_dog_min_max, y_cat_dog, test_size=0.20, \n",
    "                     random_state = random_seed)\n",
    "\n",
    "print(\"Shape of Training data: \", X_train.shape)\n",
    "print(\"Shape of Test data: \", X_test.shape)\n",
    "\n",
    "print(\"\\nShape of Training data: \", y_train.shape)\n",
    "print(\"Shape of Test data: \", y_test.shape)"
   ]
  },
  {
   "cell_type": "code",
   "execution_count": 67,
   "metadata": {},
   "outputs": [],
   "source": [
    "init = tf.global_variables_initializer()   "
   ]
  },
  {
   "cell_type": "code",
   "execution_count": 68,
   "metadata": {},
   "outputs": [
    {
     "name": "stdout",
     "output_type": "stream",
     "text": [
      "0 Train accuracy: 0.64 Test accuracy: 0.5075\n",
      "1 Train accuracy: 0.63 Test accuracy: 0.51\n",
      "2 Train accuracy: 0.64 Test accuracy: 0.52\n",
      "3 Train accuracy: 0.65 Test accuracy: 0.52\n",
      "4 Train accuracy: 0.64 Test accuracy: 0.515\n",
      "5 Train accuracy: 0.66 Test accuracy: 0.5225\n",
      "6 Train accuracy: 0.67 Test accuracy: 0.5325\n",
      "7 Train accuracy: 0.7 Test accuracy: 0.525\n",
      "8 Train accuracy: 0.68 Test accuracy: 0.52\n",
      "9 Train accuracy: 0.69 Test accuracy: 0.535\n",
      "10 Train accuracy: 0.69 Test accuracy: 0.5325\n",
      "11 Train accuracy: 0.71 Test accuracy: 0.5275\n",
      "12 Train accuracy: 0.73 Test accuracy: 0.535\n",
      "13 Train accuracy: 0.68 Test accuracy: 0.52\n",
      "14 Train accuracy: 0.7 Test accuracy: 0.5275\n",
      "15 Train accuracy: 0.74 Test accuracy: 0.535\n",
      "16 Train accuracy: 0.77 Test accuracy: 0.535\n",
      "17 Train accuracy: 0.79 Test accuracy: 0.535\n",
      "18 Train accuracy: 0.75 Test accuracy: 0.5275\n",
      "19 Train accuracy: 0.78 Test accuracy: 0.555\n",
      "20 Train accuracy: 0.79 Test accuracy: 0.5825\n",
      "21 Train accuracy: 0.82 Test accuracy: 0.5975\n",
      "22 Train accuracy: 0.82 Test accuracy: 0.5925\n",
      "23 Train accuracy: 0.81 Test accuracy: 0.5925\n",
      "24 Train accuracy: 0.68 Test accuracy: 0.5175\n",
      "25 Train accuracy: 0.64 Test accuracy: 0.4975\n",
      "26 Train accuracy: 0.82 Test accuracy: 0.54\n",
      "27 Train accuracy: 0.72 Test accuracy: 0.515\n",
      "28 Train accuracy: 0.82 Test accuracy: 0.6\n",
      "29 Train accuracy: 0.82 Test accuracy: 0.6\n",
      "30 Train accuracy: 0.83 Test accuracy: 0.595\n",
      "31 Train accuracy: 0.83 Test accuracy: 0.5975\n",
      "32 Train accuracy: 0.75 Test accuracy: 0.5225\n",
      "33 Train accuracy: 0.66 Test accuracy: 0.51\n",
      "34 Train accuracy: 0.68 Test accuracy: 0.5175\n",
      "35 Train accuracy: 0.7 Test accuracy: 0.5125\n",
      "36 Train accuracy: 0.68 Test accuracy: 0.5125\n",
      "37 Train accuracy: 0.68 Test accuracy: 0.515\n",
      "38 Train accuracy: 0.72 Test accuracy: 0.5425\n",
      "39 Train accuracy: 0.8 Test accuracy: 0.58\n",
      "40 Train accuracy: 0.82 Test accuracy: 0.5975\n",
      "41 Train accuracy: 0.8 Test accuracy: 0.58\n",
      "42 Train accuracy: 0.81 Test accuracy: 0.5825\n",
      "43 Train accuracy: 0.86 Test accuracy: 0.5975\n",
      "44 Train accuracy: 0.87 Test accuracy: 0.5925\n",
      "45 Train accuracy: 0.76 Test accuracy: 0.5575\n",
      "46 Train accuracy: 0.88 Test accuracy: 0.5975\n",
      "47 Train accuracy: 0.86 Test accuracy: 0.545\n",
      "48 Train accuracy: 0.78 Test accuracy: 0.5275\n",
      "49 Train accuracy: 0.74 Test accuracy: 0.5225\n",
      "INFO:tensorflow:Restoring parameters from ./my_catdog_model\n",
      "-------- Model 1 --------\n",
      "\n",
      "Predicted classes: [1 0 1 1 1 1 1 0 1 1 1 1 1 0 1 1 1 1 1 1 1 1 1 1 1 1 1 1 1 1 1 1 1 1 1 1 0\n",
      " 1 1 0 1 1 1 1 1 1 1 1 1 1]\n",
      "Actual classes: [0 1 0 1 1 0 0 1 0 1 0 1 1 0 0 0 0 1 1 0 1 1 1 0 0]\n",
      "Test Set Accuracy: 0.5225\n",
      "processing time: 2.7739290000000096\n",
      "overall time: 48.63126299999999\n"
     ]
    }
   ],
   "source": [
    "#Training base model by using DNN\n",
    "n_epochs = 50\n",
    "batch_size = 100\n",
    "\n",
    "# Record start time for neural network training\n",
    "start_time_base = time.clock()\n",
    "\n",
    "with tf.Session() as sess:\n",
    "    init.run()\n",
    "    for epoch in range(n_epochs):\n",
    "        for iteration in range(y_train.shape[0] // batch_size):\n",
    "            X_batch = X_train[iteration*batch_size:(iteration + 1)*batch_size,:]\n",
    "            y_batch = y_train[iteration*batch_size:(iteration + 1)*batch_size]\n",
    "            sess.run(training_op, feed_dict={X: X_batch, y: y_batch})\n",
    "        acc_train_base = accuracy.eval(feed_dict={X: X_batch, y: y_batch})\n",
    "        acc_test_base = accuracy.eval(feed_dict={X: X_test, y: y_test})\n",
    "        print(epoch, \"Train accuracy:\", acc_train_base, \"Test accuracy:\", acc_test_base)\n",
    "\n",
    "        save_path = saver.save(sess, \"./my_catdog_model\")\n",
    "# Predict using the test dataset\n",
    "with tf.Session() as sess:\n",
    "    saver.restore(sess, \"./my_catdog_model\") # or better, use save_path\n",
    "    X_new_scaled = X_test[:50]\n",
    "    Z = logits.eval(feed_dict={X: X_new_scaled})\n",
    "    y_pred_base = np.argmax(Z, axis=1)\n",
    "    accuracy_base = accuracy.eval(feed_dict={X: X_test, y: y_test})\n",
    "# Print Metrics\n",
    "print(\"-------- Model 1 --------\")\n",
    "print(\"\\nPredicted classes:\", y_pred_base)\n",
    "print(\"Actual classes:\", y_test[:25])\n",
    "print(\"Test Set Accuracy:\", accuracy_base)\n",
    "\n",
    "# Record end time for neural network training\n",
    "stop_time_base = time.clock()\n",
    "\n",
    "#Total processing time\n",
    "runtime_base = stop_time_base - start_time_base \n",
    "\n",
    "\n",
    "print(\"processing time:\", runtime_base)\n",
    "runtime_overall= time.clock() - start_time_overall\n",
    "print(\"overall time:\", runtime_overall)"
   ]
  },
  {
   "cell_type": "markdown",
   "metadata": {},
   "source": [
    "###### Convolution Neural Nets (CNNs) : Model 1\n",
    "Model 1 : CNN (Convolutional Layer: 2, Pooling Layer: 1, Fully Connected Layer: 1, Activation Function: ReLU, Softmax)"
   ]
  },
  {
   "cell_type": "code",
   "execution_count": 69,
   "metadata": {},
   "outputs": [
    {
     "name": "stdout",
     "output_type": "stream",
     "text": [
      "overall time: 48.641718\n"
     ]
    }
   ],
   "source": [
    "#CatsDocs image has 64x64 matrix of raster values becomes a vector of 4096 input variables\n",
    "tf.Session.close\n",
    "height = 64\n",
    "width = 64\n",
    "channels = 1 #1 is used for gray scale color. \n",
    "n_inputs = height * width #64x64 - 4096 features\n",
    "\n",
    "#Parameters for the 1st convolutional layer. \n",
    "conv1_fmaps = 32 #number of filters in the convolution\n",
    "conv1_ksize = 3 #Karnel Size\n",
    "conv1_stride = 1 #Straides\n",
    "conv1_pad = \"SAME\" #Padding\n",
    "\n",
    "#Parameters for the 2nd convolutional layer. \n",
    "conv2_fmaps = 64\n",
    "conv2_ksize = 3\n",
    "conv2_stride = 2\n",
    "conv2_pad = \"SAME\"\n",
    "\n",
    "#Parameters  pooling layer \n",
    "pool3_fmaps = conv2_fmaps\n",
    "\n",
    "#Fully Connected Layer  pooling layer \n",
    "n_fc1 = 64 # Dmensionality of the output space.\n",
    "n_outputs = 2 #2 values, Cat or Dog\n",
    "\n",
    "#Refresh previous graph\n",
    "reset_graph()\n",
    "runtime_overall= time.clock() - start_time_overall\n",
    "print(\"overall time:\", runtime_overall)"
   ]
  },
  {
   "cell_type": "code",
   "execution_count": 70,
   "metadata": {},
   "outputs": [
    {
     "name": "stdout",
     "output_type": "stream",
     "text": [
      "overall time: 48.6776\n"
     ]
    }
   ],
   "source": [
    "### Construction Phase###\n",
    "\n",
    "# Construct convolutional layers\n",
    "with tf.name_scope(\"inputs\"):\n",
    "    X = tf.placeholder(tf.float32, shape=[None, n_inputs], name=\"X\")\n",
    "    X_reshaped = tf.reshape(X, shape=[-1, height, width, channels])\n",
    "    y = tf.placeholder(tf.int32, shape=[None], name=\"y\")\n",
    "\n",
    "conv1 = tf.layers.conv2d(X_reshaped, filters=conv1_fmaps, kernel_size=conv1_ksize,\n",
    "                         strides=conv1_stride, padding=conv1_pad,\n",
    "                         activation=tf.nn.relu, name=\"conv1\")\n",
    "conv2 = tf.layers.conv2d(conv1, filters=conv2_fmaps, kernel_size=conv2_ksize,\n",
    "                         strides=conv2_stride, padding=conv2_pad,\n",
    "                         activation=tf.nn.relu, name=\"conv2\")\n",
    "runtime_overall= time.clock() - start_time_overall\n",
    "print(\"overall time:\", runtime_overall)"
   ]
  },
  {
   "cell_type": "code",
   "execution_count": 71,
   "metadata": {},
   "outputs": [
    {
     "name": "stdout",
     "output_type": "stream",
     "text": [
      "overall time: 48.709001\n"
     ]
    }
   ],
   "source": [
    "\n",
    "# Construct pooling layers\n",
    "with tf.name_scope(\"pool3\"):\n",
    "    pool3 = tf.nn.max_pool(conv2, ksize=[1, 2, 2, 1], strides=[1, 2, 2, 1], padding=\"VALID\")\n",
    "    pool3_flat = tf.reshape(pool3, shape=[-1, pool3_fmaps*16*16])\n",
    "\n",
    "# Construct fully connected layer\n",
    "with tf.name_scope(\"fc1\"):\n",
    "    fc1 = tf.layers.dense(pool3_flat, n_fc1, activation=tf.nn.relu, name=\"fc1\")\n",
    "\n",
    "# Outputs Layer with applying softmax function\n",
    "with tf.name_scope(\"output\"):\n",
    "    logits = tf.layers.dense(fc1, n_outputs, name=\"output\")\n",
    "    Y_proba = tf.nn.softmax(logits, name=\"Y_proba\")\n",
    "\n",
    "runtime_overall= time.clock() - start_time_overall\n",
    "print(\"overall time:\", runtime_overall)"
   ]
  },
  {
   "cell_type": "code",
   "execution_count": 72,
   "metadata": {},
   "outputs": [
    {
     "name": "stdout",
     "output_type": "stream",
     "text": [
      "overall time: 48.838847\n"
     ]
    }
   ],
   "source": [
    "# Training with AdamOptimizaer\n",
    "with tf.name_scope(\"train\"):\n",
    "    xentropy = tf.nn.sparse_softmax_cross_entropy_with_logits(logits=logits, labels=y)\n",
    "    loss = tf.reduce_mean(xentropy)\n",
    "    optimizer = tf.train.AdamOptimizer()\n",
    "    training_op = optimizer.minimize(loss)\n",
    "\n",
    "# Evaluation       \n",
    "with tf.name_scope(\"eval\"):\n",
    "    correct = tf.nn.in_top_k(logits, y, 1)\n",
    "    accuracy = tf.reduce_mean(tf.cast(correct, tf.float32))\n",
    "\n",
    "## Create saver to save trained parameters\n",
    "with tf.name_scope(\"init_and_save\"):\n",
    "    init = tf.global_variables_initializer()\n",
    "    saver = tf.train.Saver()\n",
    "runtime_overall= time.clock() - start_time_overall\n",
    "print(\"overall time:\", runtime_overall)"
   ]
  },
  {
   "cell_type": "code",
   "execution_count": 73,
   "metadata": {},
   "outputs": [
    {
     "name": "stdout",
     "output_type": "stream",
     "text": [
      "0 Train accuracy: 0.5 Test accuracy: 0.48\n",
      "overall time: 49.692453\n"
     ]
    }
   ],
   "source": [
    "### Execution Phase###\n",
    "# Set number of epochs and batch size for training model.\n",
    "# Record start time for neural network training\n",
    "n_epochs = 1\n",
    "batch_size = 10\n",
    "\n",
    "# Record start time for neural network training\n",
    "start_time_base = time.clock()\n",
    "\n",
    "with tf.Session() as sess:\n",
    "    init.run()\n",
    "    for epoch in range(n_epochs):\n",
    "        for iteration in range(y_train.shape[0] // batch_size):\n",
    "            X_batch = X_train[iteration*batch_size:(iteration + 1)*batch_size,:]\n",
    "            y_batch = y_train[iteration*batch_size:(iteration + 1)*batch_size]\n",
    "            sess.run(training_op, feed_dict={X: X_batch, y: y_batch})\n",
    "        acc_train_base = accuracy.eval(feed_dict={X: X_batch, y: y_batch})\n",
    "        acc_test_base = accuracy.eval(feed_dict={X: X_test, y: y_test})\n",
    "        print(epoch, \"Train accuracy:\", acc_train_base, \"Test accuracy:\", acc_test_base)\n",
    "\n",
    "        save_path = saver.save(sess, \"./my_catdog_model\")\n",
    "runtime_overall= time.clock() - start_time_overall\n",
    "print(\"overall time:\", runtime_overall)\n"
   ]
  },
  {
   "cell_type": "code",
   "execution_count": 74,
   "metadata": {
    "scrolled": true
   },
   "outputs": [
    {
     "name": "stdout",
     "output_type": "stream",
     "text": [
      "INFO:tensorflow:Restoring parameters from ./my_catdog_model\n",
      "-------- Model 1 --------\n",
      "\n",
      "Predicted classes: [1 1 1 1 1 1 1 1 1 1 1 1 1 1 1 1 1 1 1 1 1 1 1 1 1 1 1 1 1 1 1 1 1 1 1 1 1\n",
      " 1 1 1 1 1 1 1 1 1 1 1 1 1]\n",
      "Actual classes: [0 1 0 1 1 0 0 1 0 1 0 1 1 0 0 0 0 1 1 0 1 1 1 0 0]\n",
      "Test Set Accuracy: 0.48\n",
      "processing time: 0.9030879999999968\n",
      "overall time: 49.75132099999999\n"
     ]
    }
   ],
   "source": [
    "# Predict using the test dataset\n",
    "with tf.Session() as sess:\n",
    "    saver.restore(sess, \"./my_catdog_model\") # or better, use save_path\n",
    "    X_new_scaled = X_test[:50]\n",
    "    Z = logits.eval(feed_dict={X: X_new_scaled})\n",
    "    y_pred_base = np.argmax(Z, axis=1)\n",
    "    accuracy_base = accuracy.eval(feed_dict={X: X_test, y: y_test})\n",
    "# Print Metrics\n",
    "print(\"-------- Model 1 --------\")\n",
    "print(\"\\nPredicted classes:\", y_pred_base)\n",
    "print(\"Actual classes:\", y_test[:25])\n",
    "print(\"Test Set Accuracy:\", accuracy_base)\n",
    "\n",
    "# Record end time for neural network training\n",
    "stop_time_base = time.clock()\n",
    "\n",
    "#Total processing time\n",
    "runtime_base = stop_time_base - start_time_base \n",
    "\n",
    "print(\"processing time:\", runtime_base)\n",
    "runtime_overall= time.clock() - start_time_overall\n",
    "print(\"overall time:\", runtime_overall)"
   ]
  },
  {
   "cell_type": "markdown",
   "metadata": {},
   "source": [
    "###### Convolution Neural Nets (CNNs) : Model 2\n",
    "CNN (Convolutional Layer: 3, Pooling Layer: 1, Fully Connected Layer: 1, Activation Function: ReLU, Softmax)"
   ]
  },
  {
   "cell_type": "code",
   "execution_count": 75,
   "metadata": {},
   "outputs": [],
   "source": [
    "\n",
    "tf.Session.close\n",
    "#CatsDocs image has 64x64 matrix of raster values becomes a vector of 4096 input variables\n",
    "height = 64\n",
    "width = 64\n",
    "channels = 1 #1 is used for gray scale color. \n",
    "n_inputs = height * width #64x64 - 4096 features\n",
    "\n",
    "#Parameters for the 1st convolutional layer. \n",
    "conv1_fmaps = 32 #number of filters in the convolution\n",
    "conv1_ksize = 3 #Karnel Size\n",
    "conv1_stride = 1 #Straides\n",
    "conv1_pad = \"SAME\" #Padding\n",
    "\n",
    "#Parameters for the 2nd convolutional layer. \n",
    "conv2_fmaps = 64\n",
    "conv2_ksize = 3\n",
    "conv2_stride = 2\n",
    "conv2_pad = \"SAME\"\n",
    "\n",
    "#Parameters  pooling layer \n",
    "pool3_fmaps = conv2_fmaps\n",
    "\n",
    "#Fully Connected Layer  pooling layer \n",
    "n_fc1 = 64 # Dmensionality of the output space.\n",
    "n_outputs = 2 #2 values, Cat or Dog\n",
    "\n",
    "#Refresh previous graph\n",
    "reset_graph()"
   ]
  },
  {
   "cell_type": "markdown",
   "metadata": {},
   "source": [
    "Step 2"
   ]
  },
  {
   "cell_type": "code",
   "execution_count": 76,
   "metadata": {},
   "outputs": [],
   "source": [
    "### Construction Phase###\n",
    "\n",
    "# Construct convolutional layers\n",
    "with tf.name_scope(\"inputs\"):\n",
    "    X = tf.placeholder(tf.float32, shape=[None, n_inputs], name=\"X\")\n",
    "    X_reshaped = tf.reshape(X, shape=[-1, height, width, channels])\n",
    "    y = tf.placeholder(tf.int32, shape=[None], name=\"y\")\n",
    "\n",
    "conva = tf.layers.conv2d(X_reshaped, filters=conv1_fmaps, kernel_size=conv1_ksize,\n",
    "                         strides=conv1_stride, padding=conv1_pad,\n",
    "                         activation=tf.nn.relu, name=\"conva\")\n",
    "convb = tf.layers.conv2d(conva, filters=conv2_fmaps, kernel_size=conv2_ksize,\n",
    "                         strides=conv2_stride, padding=conv2_pad,\n",
    "                         activation=tf.nn.relu, name=\"convb\")\n",
    "\n",
    "# Construct pooling layers\n",
    "with tf.name_scope(\"pool3\"):\n",
    "    pool3 = tf.nn.max_pool(convb, ksize=[1, 2, 2, 1], strides=[1, 2, 2, 1], padding=\"VALID\")\n",
    "    pool3_flat = tf.reshape(pool3, shape=[-1, pool3_fmaps*16*16])\n",
    "\n",
    "# Construct fully connected layer\n",
    "with tf.name_scope(\"fc1\"):\n",
    "    fc1 = tf.layers.dense(pool3_flat, n_fc1, activation=tf.nn.relu, name=\"fc1\")\n",
    "\n",
    "# Outputs Layer with applying softmax function\n",
    "with tf.name_scope(\"output\"):\n",
    "    logits = tf.layers.dense(fc1, n_outputs, name=\"output\")\n",
    "    Y_proba = tf.nn.softmax(logits, name=\"Y_proba\")\n",
    "\n",
    "# Training with AdamOptimizaer\n",
    "with tf.name_scope(\"train\"):\n",
    "    xentropy = tf.nn.sparse_softmax_cross_entropy_with_logits(logits=logits, labels=y)\n",
    "    loss = tf.reduce_mean(xentropy)\n",
    "    optimizer = tf.train.AdamOptimizer()\n",
    "    training_op = optimizer.minimize(loss)\n",
    "\n",
    "# Evaluation       \n",
    "with tf.name_scope(\"eval\"):\n",
    "    correct = tf.nn.in_top_k(logits, y, 1)\n",
    "    accuracy = tf.reduce_mean(tf.cast(correct, tf.float32))\n",
    "\n",
    "## Create saver to save trained parameters\n",
    "with tf.name_scope(\"init_and_save\"):\n",
    "    init = tf.global_variables_initializer()\n",
    "    saver = tf.train.Saver()"
   ]
  },
  {
   "cell_type": "markdown",
   "metadata": {},
   "source": [
    "Step3"
   ]
  },
  {
   "cell_type": "code",
   "execution_count": 77,
   "metadata": {},
   "outputs": [
    {
     "name": "stdout",
     "output_type": "stream",
     "text": [
      "0 Train accuracy: 0.59 Test accuracy: 0.48\n",
      "1 Train accuracy: 0.59 Test accuracy: 0.48\n",
      "2 Train accuracy: 0.64 Test accuracy: 0.525\n",
      "3 Train accuracy: 0.68 Test accuracy: 0.6025\n",
      "4 Train accuracy: 0.7 Test accuracy: 0.6075\n",
      "5 Train accuracy: 0.77 Test accuracy: 0.6175\n",
      "6 Train accuracy: 0.79 Test accuracy: 0.62\n",
      "7 Train accuracy: 0.79 Test accuracy: 0.6125\n",
      "8 Train accuracy: 0.82 Test accuracy: 0.6125\n",
      "9 Train accuracy: 0.85 Test accuracy: 0.635\n",
      "10 Train accuracy: 0.86 Test accuracy: 0.6475\n",
      "11 Train accuracy: 0.93 Test accuracy: 0.64\n",
      "12 Train accuracy: 0.91 Test accuracy: 0.6675\n",
      "13 Train accuracy: 0.96 Test accuracy: 0.6575\n",
      "14 Train accuracy: 0.97 Test accuracy: 0.6325\n",
      "15 Train accuracy: 0.9 Test accuracy: 0.6275\n",
      "16 Train accuracy: 0.98 Test accuracy: 0.66\n",
      "17 Train accuracy: 0.96 Test accuracy: 0.6525\n",
      "18 Train accuracy: 0.99 Test accuracy: 0.65\n",
      "19 Train accuracy: 1.0 Test accuracy: 0.6525\n",
      "20 Train accuracy: 1.0 Test accuracy: 0.6175\n",
      "21 Train accuracy: 1.0 Test accuracy: 0.63\n",
      "22 Train accuracy: 1.0 Test accuracy: 0.6225\n",
      "23 Train accuracy: 1.0 Test accuracy: 0.645\n",
      "24 Train accuracy: 1.0 Test accuracy: 0.645\n",
      "25 Train accuracy: 1.0 Test accuracy: 0.62\n",
      "26 Train accuracy: 1.0 Test accuracy: 0.635\n",
      "27 Train accuracy: 1.0 Test accuracy: 0.63\n",
      "28 Train accuracy: 1.0 Test accuracy: 0.63\n",
      "29 Train accuracy: 1.0 Test accuracy: 0.64\n",
      "30 Train accuracy: 1.0 Test accuracy: 0.6375\n",
      "31 Train accuracy: 1.0 Test accuracy: 0.635\n",
      "32 Train accuracy: 1.0 Test accuracy: 0.6325\n",
      "33 Train accuracy: 1.0 Test accuracy: 0.6325\n",
      "34 Train accuracy: 1.0 Test accuracy: 0.63\n",
      "35 Train accuracy: 1.0 Test accuracy: 0.63\n",
      "36 Train accuracy: 1.0 Test accuracy: 0.6275\n",
      "37 Train accuracy: 1.0 Test accuracy: 0.62\n",
      "38 Train accuracy: 1.0 Test accuracy: 0.615\n",
      "39 Train accuracy: 1.0 Test accuracy: 0.625\n",
      "40 Train accuracy: 1.0 Test accuracy: 0.625\n",
      "41 Train accuracy: 1.0 Test accuracy: 0.6225\n",
      "42 Train accuracy: 1.0 Test accuracy: 0.6275\n",
      "43 Train accuracy: 1.0 Test accuracy: 0.615\n",
      "44 Train accuracy: 1.0 Test accuracy: 0.6075\n",
      "45 Train accuracy: 1.0 Test accuracy: 0.6075\n",
      "46 Train accuracy: 1.0 Test accuracy: 0.605\n",
      "47 Train accuracy: 1.0 Test accuracy: 0.6025\n",
      "48 Train accuracy: 1.0 Test accuracy: 0.5975\n",
      "49 Train accuracy: 1.0 Test accuracy: 0.5975\n",
      "INFO:tensorflow:Restoring parameters from ./my_catdog_model\n",
      "-------- Model 1 --------\n",
      "\n",
      "Predicted classes: [0 1 1 1 1 1 1 0 0 1 0 1 1 0 1 1 1 1 1 0 1 1 1 1 1 1 1 1 1 1 1 1 1 1 1 1 1\n",
      " 0 1 0 1 1 1 1 1 1 0 1 1 1]\n",
      "Actual classes: [0 1 0 1 1 0 0 1 0 1 0 1 1 0 0 0 0 1 1 0 1 1 1 0 0]\n",
      "Test Set Accuracy: 0.5975\n",
      "processing time: 10.128751999999992\n",
      "overall time: 60.15267\n"
     ]
    }
   ],
   "source": [
    "### Execution Phase###\n",
    "# Set number of epochs and batch size for training model.\n",
    "# Record start time for neural network training\n",
    "n_epochs = 50\n",
    "batch_size = 100\n",
    "\n",
    "# Record start time for neural network training\n",
    "start_time_base = time.clock()\n",
    "\n",
    "with tf.Session() as sess:\n",
    "    init.run()\n",
    "    for epoch in range(n_epochs):\n",
    "        for iteration in range(y_train.shape[0] // batch_size):\n",
    "            X_batch = X_train[iteration*batch_size:(iteration + 1)*batch_size,:]\n",
    "            y_batch = y_train[iteration*batch_size:(iteration + 1)*batch_size]\n",
    "            sess.run(training_op, feed_dict={X: X_batch, y: y_batch})\n",
    "        acc_train_base = accuracy.eval(feed_dict={X: X_batch, y: y_batch})\n",
    "        acc_test_base = accuracy.eval(feed_dict={X: X_test, y: y_test})\n",
    "        print(epoch, \"Train accuracy:\", acc_train_base, \"Test accuracy:\", acc_test_base)\n",
    "\n",
    "        save_path = saver.save(sess, \"./my_catdog_model\")\n",
    "# Predict using the test dataset\n",
    "with tf.Session() as sess:\n",
    "    saver.restore(sess, \"./my_catdog_model\") # or better, use save_path\n",
    "    X_new_scaled = X_test[:50]\n",
    "    Z = logits.eval(feed_dict={X: X_new_scaled})\n",
    "    y_pred_base = np.argmax(Z, axis=1)\n",
    "    accuracy_base = accuracy.eval(feed_dict={X: X_test, y: y_test})\n",
    "# Print Metrics\n",
    "print(\"-------- Model 1 --------\")\n",
    "print(\"\\nPredicted classes:\", y_pred_base)\n",
    "print(\"Actual classes:\", y_test[:25])\n",
    "print(\"Test Set Accuracy:\", accuracy_base)\n",
    "\n",
    "# Record end time for neural network training\n",
    "stop_time_base = time.clock()\n",
    "\n",
    "#Total processing time\n",
    "runtime_base = stop_time_base - start_time_base \n",
    "\n",
    "\n",
    "print(\"processing time:\", runtime_base)\n",
    "runtime_overall= time.clock() - start_time_overall\n",
    "print(\"overall time:\", runtime_overall)"
   ]
  },
  {
   "cell_type": "markdown",
   "metadata": {},
   "source": [
    "###### Convolution Neural Nets (CNNs) : Model 3\n",
    "CNN with Dropout (....)"
   ]
  },
  {
   "cell_type": "markdown",
   "metadata": {},
   "source": [
    "###### Convolution Neural Nets (CNNs) : Model 4\n",
    "CNN with Dropout (.....)"
   ]
  },
  {
   "cell_type": "markdown",
   "metadata": {},
   "source": [
    "##### Try with different image resolutions as well "
   ]
  },
  {
   "cell_type": "markdown",
   "metadata": {},
   "source": [
    "##### Summary Table"
   ]
  },
  {
   "cell_type": "code",
   "execution_count": 78,
   "metadata": {},
   "outputs": [
    {
     "ename": "NameError",
     "evalue": "name 'runtime_M2' is not defined",
     "output_type": "error",
     "traceback": [
      "\u001b[0;31m---------------------------------------------------------------------------\u001b[0m",
      "\u001b[0;31mNameError\u001b[0m                                 Traceback (most recent call last)",
      "\u001b[0;32m<ipython-input-78-328d5eaeb8a0>\u001b[0m in \u001b[0;36m<module>\u001b[0;34m()\u001b[0m\n\u001b[1;32m      9\u001b[0m               \u001b[0;34m[\u001b[0m\u001b[0;34m'Relu'\u001b[0m\u001b[0;34m,\u001b[0m\u001b[0;34m'Relu'\u001b[0m\u001b[0;34m,\u001b[0m\u001b[0;34m'Relu'\u001b[0m\u001b[0;34m,\u001b[0m\u001b[0;34m'Relu'\u001b[0m\u001b[0;34m,\u001b[0m\u001b[0;34m'Relu'\u001b[0m\u001b[0;34m]\u001b[0m\u001b[0;34m,\u001b[0m\u001b[0;34m\u001b[0m\u001b[0;34m\u001b[0m\u001b[0m\n\u001b[1;32m     10\u001b[0m               \u001b[0;34m[\u001b[0m\u001b[0;34m'No'\u001b[0m\u001b[0;34m,\u001b[0m\u001b[0;34m'No'\u001b[0m\u001b[0;34m,\u001b[0m\u001b[0;34m'No'\u001b[0m\u001b[0;34m,\u001b[0m\u001b[0;34m'Yes'\u001b[0m\u001b[0;34m,\u001b[0m\u001b[0;34m'Yes'\u001b[0m\u001b[0;34m]\u001b[0m\u001b[0;34m,\u001b[0m\u001b[0;34m\u001b[0m\u001b[0;34m\u001b[0m\u001b[0m\n\u001b[0;32m---> 11\u001b[0;31m               \u001b[0;34m[\u001b[0m\u001b[0mround\u001b[0m\u001b[0;34m(\u001b[0m\u001b[0mruntime_base\u001b[0m\u001b[0;34m,\u001b[0m\u001b[0;36m1\u001b[0m\u001b[0;34m)\u001b[0m\u001b[0;34m,\u001b[0m \u001b[0mround\u001b[0m\u001b[0;34m(\u001b[0m\u001b[0mruntime_M1\u001b[0m\u001b[0;34m,\u001b[0m\u001b[0;36m1\u001b[0m\u001b[0;34m)\u001b[0m\u001b[0;34m,\u001b[0m \u001b[0mround\u001b[0m\u001b[0;34m(\u001b[0m\u001b[0mruntime_M2\u001b[0m\u001b[0;34m,\u001b[0m\u001b[0;36m1\u001b[0m\u001b[0;34m)\u001b[0m\u001b[0;34m,\u001b[0m \u001b[0mround\u001b[0m\u001b[0;34m(\u001b[0m\u001b[0mruntime_M3\u001b[0m\u001b[0;34m,\u001b[0m\u001b[0;34m)\u001b[0m\u001b[0;34m,\u001b[0m \u001b[0mround\u001b[0m\u001b[0;34m(\u001b[0m\u001b[0mruntime_M4\u001b[0m\u001b[0;34m,\u001b[0m\u001b[0;36m1\u001b[0m\u001b[0;34m)\u001b[0m\u001b[0;34m]\u001b[0m\u001b[0;34m,\u001b[0m\u001b[0;34m\u001b[0m\u001b[0;34m\u001b[0m\u001b[0m\n\u001b[0m\u001b[1;32m     12\u001b[0m               \u001b[0;34m[\u001b[0m\u001b[0macc_train_base\u001b[0m\u001b[0;34m,\u001b[0m \u001b[0macc_train_M1\u001b[0m\u001b[0;34m,\u001b[0m \u001b[0macc_train_M2\u001b[0m\u001b[0;34m,\u001b[0m \u001b[0macc_train_M3\u001b[0m\u001b[0;34m,\u001b[0m \u001b[0macc_train_M4\u001b[0m\u001b[0;34m]\u001b[0m\u001b[0;34m,\u001b[0m\u001b[0;34m\u001b[0m\u001b[0;34m\u001b[0m\u001b[0m\n\u001b[1;32m     13\u001b[0m               [accuracy_base, accuracy_M1, accuracy_M2, accuracy_M3, accuracy_M4]] ).T\n",
      "\u001b[0;31mNameError\u001b[0m: name 'runtime_M2' is not defined"
     ]
    }
   ],
   "source": [
    "# Import panda to create summary table\n",
    "import pandas as pd\n",
    "\n",
    "summary_DF =\\\n",
    "pd.DataFrame([[\"Base\", \"M1\", \"M2\", \"M3\", \"M4\"],\n",
    "              [\"DNN\", \"CNN\", \"CNN\", \"CNN\", \"CNN\"],\n",
    "              ['',2,4,2,4],\n",
    "              ['',1,2,1,2],\n",
    "              ['',1,1,1,1],\n",
    "              ['Relu','Relu','Relu','Relu','Relu'],\n",
    "              ['No','No','No','Yes','Yes'],\n",
    "              [round(runtime_base,1), round(runtime_M1,1), round(runtime_M2,1), round(runtime_M3,), round(runtime_M4,1)],\n",
    "              [acc_train_base, acc_train_M1, acc_train_M2, acc_train_M3, acc_train_M4],\n",
    "              [accuracy_base, accuracy_M1, accuracy_M2, accuracy_M3, accuracy_M4]] ).T\n",
    "\n",
    "# Column Name and Index\n",
    "summary_DF.columns = [\"Model\",\"Neural\\nNetwork\\nType\", \"Convolutional\\nLayers\", \"Pooling\\nLayers\", \"Fully\\nConnected\\nLayers\",\n",
    "                      \"Activate\\nFunction\",\"Dropout\",\"Run_Time\",\"Training_Set\\nAccuracy\",\"Test_Set\\nAccuracy\"]\n",
    "summary_DF.index   = [1,2,3,4,5]\n"
   ]
  },
  {
   "cell_type": "code",
   "execution_count": null,
   "metadata": {},
   "outputs": [],
   "source": [
    "print('------------------------------- Summary Table -------------------------------')\n",
    "summary_DF"
   ]
  },
  {
   "cell_type": "markdown",
   "metadata": {},
   "source": [
    "Management Problem : \n",
    "Assume that we are providing advice to a website provider who is looking for tools to automatically label images provided by end users. As we look across the factors in the study, making recommendations to management about image classification, we are most concerned about achieving the highest possible accuracy in image classification. That is, we should be willing to sacrifice training time for model accuracy. What type of machine learning model works best? If it is a convolutional neural network, what type of network should we use? Part of this recommendation may concern information about the initial images themselves (input data for the classification task). What types of images work best ?\n",
    "\n",
    "\n",
    "#### REPORT/FINDINGS: \n",
    "(1) A summary and problem definition for management; \n",
    "\n",
    "(2) Discussion of the research design, measurement and statistical methods, traditional and machine learning methods employed \n",
    "\n",
    "(3) Overview of programming work; \n",
    "\n",
    "(4) Review of results with recommendations for management.\n",
    "\n"
   ]
  },
  {
   "cell_type": "code",
   "execution_count": null,
   "metadata": {},
   "outputs": [],
   "source": []
  }
 ],
 "metadata": {
  "kernelspec": {
   "display_name": "Python 3",
   "language": "python",
   "name": "python3"
  },
  "language_info": {
   "codemirror_mode": {
    "name": "ipython",
    "version": 3
   },
   "file_extension": ".py",
   "mimetype": "text/x-python",
   "name": "python",
   "nbconvert_exporter": "python",
   "pygments_lexer": "ipython3",
   "version": "3.6.7"
  }
 },
 "nbformat": 4,
 "nbformat_minor": 2
}
